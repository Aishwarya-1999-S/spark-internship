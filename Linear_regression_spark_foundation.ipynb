{
  "nbformat": 4,
  "nbformat_minor": 0,
  "metadata": {
    "colab": {
      "name": "Linear regression spark foundation",
      "provenance": [],
      "collapsed_sections": []
    },
    "kernelspec": {
      "name": "python3",
      "display_name": "Python 3"
    }
  },
  "cells": [
    {
      "cell_type": "markdown",
      "metadata": {
        "id": "VKJZQgaLsz1c",
        "colab_type": "text"
      },
      "source": [
        "**TASK 2 -To Explore Supervised Machine Learning**\n",
        " \n",
        "In this regression we will predict the prcentage of marks that a student is expected to score based upon the number of hourss they studied.This is a simple linear regression task as it involves just two variables.  \n"
      ]
    },
    {
      "cell_type": "markdown",
      "metadata": {
        "id": "1zqJoD9ptOWz",
        "colab_type": "text"
      },
      "source": [
        "**IMPORT LIBRARIES**\n",
        "\n",
        "The advantage of working with Python is that we have access to many libraries that allow us to rapidly read data, plot the data, and perform a linear regression.\n",
        "I like to import all the necessary libraries on top of the notebook to keep everything organized. Import the following:"
      ]
    },
    {
      "cell_type": "code",
      "metadata": {
        "id": "F_1iT9FDtzua",
        "colab_type": "code",
        "colab": {
          "base_uri": "https://localhost:8080/",
          "height": 71
        },
        "outputId": "c31bb656-55c4-4617-ec8c-bdfcbe195687"
      },
      "source": [
        "import pandas as pd\n",
        "import numpy as np\n",
        "import matplotlib.pyplot as plt\n",
        "from sklearn.linear_model import LinearRegression\n",
        "from sklearn.metrics import r2_score\n",
        "import statsmodels.api as sm\n",
        "import pandas.util.testing as tm"
      ],
      "execution_count": null,
      "outputs": [
        {
          "output_type": "stream",
          "text": [
            "/usr/local/lib/python3.6/dist-packages/statsmodels/tools/_testing.py:19: FutureWarning: pandas.util.testing is deprecated. Use the functions in the public API at pandas.testing instead.\n",
            "  import pandas.util.testing as tm\n"
          ],
          "name": "stderr"
        }
      ]
    },
    {
      "cell_type": "markdown",
      "metadata": {
        "id": "S-f0Hoa1uP5E",
        "colab_type": "text"
      },
      "source": [
        "**READ THE DATA**\n",
        "\n",
        "Assuming that you downloaded the data set, place it in a data directory within your project folder. Then, read the data like so and also To see what the data looks like, we do the following:"
      ]
    },
    {
      "cell_type": "code",
      "metadata": {
        "id": "X5P0soGGulcL",
        "colab_type": "code",
        "colab": {
          "base_uri": "https://localhost:8080/",
          "height": 204
        },
        "outputId": "3db7955b-46cc-4d25-d676-3183d478bd01"
      },
      "source": [
        "data = pd.read_csv(\"http://bit.ly/w-data\")\n",
        "data.head()"
      ],
      "execution_count": null,
      "outputs": [
        {
          "output_type": "execute_result",
          "data": {
            "text/html": [
              "<div>\n",
              "<style scoped>\n",
              "    .dataframe tbody tr th:only-of-type {\n",
              "        vertical-align: middle;\n",
              "    }\n",
              "\n",
              "    .dataframe tbody tr th {\n",
              "        vertical-align: top;\n",
              "    }\n",
              "\n",
              "    .dataframe thead th {\n",
              "        text-align: right;\n",
              "    }\n",
              "</style>\n",
              "<table border=\"1\" class=\"dataframe\">\n",
              "  <thead>\n",
              "    <tr style=\"text-align: right;\">\n",
              "      <th></th>\n",
              "      <th>Hours</th>\n",
              "      <th>Scores</th>\n",
              "    </tr>\n",
              "  </thead>\n",
              "  <tbody>\n",
              "    <tr>\n",
              "      <th>0</th>\n",
              "      <td>2.5</td>\n",
              "      <td>21</td>\n",
              "    </tr>\n",
              "    <tr>\n",
              "      <th>1</th>\n",
              "      <td>5.1</td>\n",
              "      <td>47</td>\n",
              "    </tr>\n",
              "    <tr>\n",
              "      <th>2</th>\n",
              "      <td>3.2</td>\n",
              "      <td>27</td>\n",
              "    </tr>\n",
              "    <tr>\n",
              "      <th>3</th>\n",
              "      <td>8.5</td>\n",
              "      <td>75</td>\n",
              "    </tr>\n",
              "    <tr>\n",
              "      <th>4</th>\n",
              "      <td>3.5</td>\n",
              "      <td>30</td>\n",
              "    </tr>\n",
              "  </tbody>\n",
              "</table>\n",
              "</div>"
            ],
            "text/plain": [
              "   Hours  Scores\n",
              "0    2.5      21\n",
              "1    5.1      47\n",
              "2    3.2      27\n",
              "3    8.5      75\n",
              "4    3.5      30"
            ]
          },
          "metadata": {
            "tags": []
          },
          "execution_count": 2
        }
      ]
    },
    {
      "cell_type": "markdown",
      "metadata": {
        "id": "H88AoAaRvNMz",
        "colab_type": "text"
      },
      "source": [
        "**SIMPLE LINEAR REGRESSION**\n",
        "\n",
        "**MODELLING**\n",
        "\n",
        "For simple linear regression, let’s consider only the effect of TV ads on sales. Before jumping right into the modelling, let’s take a look at what the data looks like.\n",
        "We use matplotlib , a popular Python plotting library to make a scatter plot.Run this cell of code and you should see this graph:\n"
      ]
    },
    {
      "cell_type": "code",
      "metadata": {
        "id": "Vg3pkfx-vctq",
        "colab_type": "code",
        "colab": {
          "base_uri": "https://localhost:8080/",
          "height": 497
        },
        "outputId": "19aaab80-760a-4f2c-fd96-fa5e7632eef3"
      },
      "source": [
        "plt.figure(figsize=(16, 8))\n",
        "plt.scatter(\n",
        "    data['Hours'],\n",
        "    data['Scores'],\n",
        "    c='black'\n",
        ")\n",
        "plt.xlabel(\"Total hours the TV sold\")\n",
        "plt.ylabel(\"Scores gained on selling TV\")\n",
        "plt.show()"
      ],
      "execution_count": null,
      "outputs": [
        {
          "output_type": "display_data",
          "data": {
            "image/png": "[encoded data removed]",
            "text/plain": [
              "<Figure size 1152x576 with 1 Axes>"
            ]
          },
          "metadata": {
            "tags": [],
            "needs_background": "light"
          }
        }
      ]
    },
    {
      "cell_type": "markdown",
      "metadata": {
        "id": "q7VGcp66wDZU",
        "colab_type": "text"
      },
      "source": [
        "**As you can see, there is a clear relationship between the total hours the TV sold and scores gained on selling tv.**\n"
      ]
    },
    {
      "cell_type": "markdown",
      "metadata": {
        "id": "QNQC5l9ww2cn",
        "colab_type": "text"
      },
      "source": [
        "**Let’s see how we can generate a linear approximation of this data.**"
      ]
    },
    {
      "cell_type": "code",
      "metadata": {
        "id": "elgA6ZmOxKmF",
        "colab_type": "code",
        "colab": {
          "base_uri": "https://localhost:8080/",
          "height": 34
        },
        "outputId": "260488bf-03fe-4ff7-e38b-427f91d9d29a"
      },
      "source": [
        "X = data['Hours'].values.reshape(-1,1)\n",
        "y = data['Scores'].values.reshape(-1,1)\n",
        "reg = LinearRegression()\n",
        "reg.fit(X, y)\n",
        "print(\"The linear model is: Y = {:.5} + {:.5}X\".format(reg.intercept_[0], reg.coef_[0][0]))"
      ],
      "execution_count": null,
      "outputs": [
        {
          "output_type": "stream",
          "text": [
            "The linear model is: Y = 2.4837 + 9.7758X\n"
          ],
          "name": "stdout"
        }
      ]
    },
    {
      "cell_type": "markdown",
      "metadata": {
        "id": "a9SfGZj2xZSo",
        "colab_type": "text"
      },
      "source": [
        "Yes! \n",
        "\n",
        "It is that simple to fit a straight line to the data set and see the parameters of the equation. In this case, we have\n",
        "\n",
        "   Y=2.4837+9.7758(X)\n",
        "\n",
        "  Simple linear regression equation\n",
        " \n",
        "  Let’s visualize how the line fits the data."
      ]
    },
    {
      "cell_type": "code",
      "metadata": {
        "id": "bLZPu9dNx26S",
        "colab_type": "code",
        "colab": {
          "base_uri": "https://localhost:8080/",
          "height": 497
        },
        "outputId": "9004df64-6162-4ece-ad19-abe3a6ffcc06"
      },
      "source": [
        "predictions = reg.predict(X)\n",
        "plt.figure(figsize=(16, 8))\n",
        "plt.scatter(\n",
        "    data['Hours'],\n",
        "    data['Scores'],\n",
        "    c='black'\n",
        ")\n",
        "plt.plot(\n",
        "    data['Hours'],\n",
        "    predictions,\n",
        "    c='red',\n",
        "    linewidth=2\n",
        ")\n",
        "plt.xlabel(\"Total hours TV sold\")\n",
        "plt.ylabel(\"Scores gained on selling TV\")\n",
        "plt.show()"
      ],
      "execution_count": null,
      "outputs": [
        {
          "output_type": "display_data",
          "data": {
            "image/png": "[encoded data removed]",
            "text/plain": [
              "<Figure size 1152x576 with 1 Axes>"
            ]
          },
          "metadata": {
            "tags": [],
            "needs_background": "light"
          }
        }
      ]
    },
    {
      "cell_type": "markdown",
      "metadata": {
        "id": "lP-Uze2u1WPp",
        "colab_type": "text"
      },
      "source": [
        "And now we see the prediction of the tv sold and the scores gained on selling tv "
      ]
    },
    {
      "cell_type": "code",
      "metadata": {
        "id": "oId-oKBQ10TR",
        "colab_type": "code",
        "colab": {
          "base_uri": "https://localhost:8080/",
          "height": 867
        },
        "outputId": "88d4df50-0a95-43e9-8133-a0ac01a875b8"
      },
      "source": [
        "print(X)\n",
        "predictions = reg.predict(X)\n",
        "predictions"
      ],
      "execution_count": null,
      "outputs": [
        {
          "output_type": "stream",
          "text": [
            "[[2.5]\n",
            " [5.1]\n",
            " [3.2]\n",
            " [8.5]\n",
            " [3.5]\n",
            " [1.5]\n",
            " [9.2]\n",
            " [5.5]\n",
            " [8.3]\n",
            " [2.7]\n",
            " [7.7]\n",
            " [5.9]\n",
            " [4.5]\n",
            " [3.3]\n",
            " [1.1]\n",
            " [8.9]\n",
            " [2.5]\n",
            " [1.9]\n",
            " [6.1]\n",
            " [7.4]\n",
            " [2.7]\n",
            " [4.8]\n",
            " [3.8]\n",
            " [6.9]\n",
            " [7.8]]\n"
          ],
          "name": "stdout"
        },
        {
          "output_type": "execute_result",
          "data": {
            "text/plain": [
              "array([[26.92318188],\n",
              "       [52.3402707 ],\n",
              "       [33.76624426],\n",
              "       [85.57800223],\n",
              "       [36.69898527],\n",
              "       [17.14737849],\n",
              "       [92.4210646 ],\n",
              "       [56.25059205],\n",
              "       [83.62284155],\n",
              "       [28.87834256],\n",
              "       [77.75735951],\n",
              "       [60.16091341],\n",
              "       [46.47478866],\n",
              "       [34.74382459],\n",
              "       [13.23705714],\n",
              "       [89.48832358],\n",
              "       [26.92318188],\n",
              "       [21.05769985],\n",
              "       [62.11607409],\n",
              "       [74.8246185 ],\n",
              "       [28.87834256],\n",
              "       [49.40752968],\n",
              "       [39.63172629],\n",
              "       [69.9367168 ],\n",
              "       [78.73493985]])"
            ]
          },
          "metadata": {
            "tags": []
          },
          "execution_count": 8
        }
      ]
    },
    {
      "cell_type": "code",
      "metadata": {
        "id": "HsQXFo3E2QHP",
        "colab_type": "code",
        "colab": {
          "base_uri": "https://localhost:8080/",
          "height": 85
        },
        "outputId": "8eb146ac-0ab5-46e5-d1b4-2c01ca2168a7"
      },
      "source": [
        "hours = int(input('Enter the Total hours the tv sold : '))\n",
        "user_pred = reg.predict([[hours]])\n",
        "print(\"No of Hours the sold  = {}\".format(hours))\n",
        "print(user_pred[0])\n",
        "print(\"Predicted Scores for selling a tv = {:.2f} %\".format(user_pred[0][0]))"
      ],
      "execution_count": null,
      "outputs": [
        {
          "output_type": "stream",
          "text": [
            "Enter the Total hours the tv sold : 4\n",
            "No of Hours the sold  = 4\n",
            "[41.58688697]\n",
            "Predicted Scores for selling a tv = 41.59 %\n"
          ],
          "name": "stdout"
        }
      ]
    }
  ]
}